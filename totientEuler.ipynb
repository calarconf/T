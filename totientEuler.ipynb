{
  "metadata": {
    "language_info": {
      "codemirror_mode": {
        "name": "python",
        "version": 3
      },
      "file_extension": ".py",
      "mimetype": "text/x-python",
      "name": "python",
      "nbconvert_exporter": "python",
      "pygments_lexer": "ipython3",
      "version": "3.8"
    },
    "kernelspec": {
      "name": "python",
      "display_name": "Python (Pyodide)",
      "language": "python"
    }
  },
  "nbformat_minor": 4,
  "nbformat": 4,
  "cells": [
    {
      "cell_type": "markdown",
      "source": "<h1>Metodo 1a1 vs Euler</h1>",
      "metadata": {}
    },
    {
      "cell_type": "markdown",
      "source": "<h2>Librerías</h2>",
      "metadata": {
        "tags": []
      }
    },
    {
      "cell_type": "raw",
      "source": "TIME",
      "metadata": {}
    },
    {
      "cell_type": "markdown",
      "source": "<h2>Funciones</h2>",
      "metadata": {}
    },
    {
      "cell_type": "code",
      "source": "def esprimo_tradicional(n):\n    if n <= 1:\n        return False\n\n    for i in range(2, n):\n        if n % i == 0:\n            return False\n\n    return True\n\ndef esprimo_euler(n):\n    if n <= 1:\n        return False\n\n    def gcd(a, b):\n        while b != 0:\n            a, b = b, a % b\n        return a\n\n    def totient(n):\n        count = 0\n        for i in range(1, n+1):\n            if gcd(n, i) == 1:\n                count += 1\n        return count == 2\n\n    return totient(n)",
      "metadata": {},
      "execution_count": null,
      "outputs": []
    },
    {
      "cell_type": "markdown",
      "source": "<h2>PROGRAMA</h2>",
      "metadata": {}
    },
    {
      "cell_type": "code",
      "source": "import time\n\ndef esprimo_tradicional(n):\n    if n <= 1:\n        return False\n\n    for i in range(2, n):\n        if n % i == 0:\n            return False\n\n    return True\n\ndef esprimo_euler(n):\n    if n <= 1:\n        return False\n\n    def gcd(a, b):\n        while b != 0:\n            a, b = b, a % b\n        return a\n\n    def totient(n):\n        count = 0\n        for i in range(1, n+1):\n            if gcd(n, i) == 1:\n                count += 1\n        return count == 2\n\n    return totient(n)\n\n# Número a comprobar\nnumber = 22456\n\n# Comprobación del tiempo utilizando el método tradicional\nstart_time = time.time()\nes_primo = esprimo_tradicional(number)\nend_time = time.time()\n\nprint(f\"El número {number} ¿es primo? {es_primo}\")\nprint(f\"Tiempo utilizando el método tradicional: {end_time - start_time} segundos\")\n\n# Comprobación del tiempo utilizando Totient de Euler\nstart_time = time.time()\nes_primo = esprimo_euler(number)\nend_time = time.time()\n\nprint(f\"El número {number} ¿es primo? {es_primo}\")\nprint(f\"Tiempo utilizando Totient de Euler: {end_time - start_time} segundos\")\n",
      "metadata": {
        "trusted": true
      },
      "execution_count": 1,
      "outputs": [
        {
          "name": "stdout",
          "text": "El número 22456 ¿es primo? False\nTiempo utilizando el método tradicional: 0.0 segundos\nEl número 22456 ¿es primo? False\nTiempo utilizando Totient de Euler: 0.025999784469604492 segundos\n",
          "output_type": "stream"
        }
      ]
    },
    {
      "cell_type": "code",
      "source": "",
      "metadata": {},
      "execution_count": null,
      "outputs": []
    }
  ]
}
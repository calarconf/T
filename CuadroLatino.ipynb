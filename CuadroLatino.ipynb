{
  "metadata": {
    "language_info": {
      "codemirror_mode": {
        "name": "python",
        "version": 3
      },
      "file_extension": ".py",
      "mimetype": "text/x-python",
      "name": "python",
      "nbconvert_exporter": "python",
      "pygments_lexer": "ipython3",
      "version": "3.8"
    },
    "kernelspec": {
      "name": "python",
      "display_name": "Python (Pyodide)",
      "language": "python"
    }
  },
  "nbformat_minor": 4,
  "nbformat": 4,
  "cells": [
    {
      "cell_type": "markdown",
      "source": "<h1>Identificación cuadro latino</h1>\n",
      "metadata": {}
    },
    {
      "cell_type": "markdown",
      "source": "<h2>Funciones Cuadro latino</h2>",
      "metadata": {}
    },
    {
      "cell_type": "code",
      "source": "def crearConjunto(mat): \n    set={}\n    for i in range (1,len(mat[0])):\n        set.setdefault(mat[0][i], False)\n    return set\n\ndef verificarFilas(mat,set): \n    try:\n        for i in range(1, len(mat)):\n            for j in range(1, len(mat[i])):\n                if(set[mat[i][j]]== True):\n                    return False\n                set[mat[i][j]]= True\n            for i in set:\n                set[i]=[False, 0]\n        return True\n    except:\n        return False\n    \ndef verificarColumnas(mat, set):\n    try:\n        for j in range(1, len(mat)):\n            for i in range(1, len(mat[j])):\n                ##print(mat[i][j],\" \",set[mat[i][j]])\n                if(set[mat[i][j]]== True):\n                    return False\n                set[mat[i][j]]= True\n            for i in set:\n                set[i]=[False, 0]\n        return True\n    except:\n        return False\n    \ndef verificarLatino(mat, set):## se verifican filas y columnas\n    cumpleFila = verificarFilas(mat, set)\n    cumpleColumna = verificarColumnas(mat, set)\n    return cumpleFila and cumpleColumna\n\ndef verificarFormato(mat):\n    size=len(mat)\n    for i in range(1, len(mat)):\n        if(len(mat[i])!=size):\n            return False\n    return True",
      "metadata": {},
      "execution_count": null,
      "outputs": []
    },
    {
      "cell_type": "markdown",
      "source": "<h2>Funciones grupo</h2>",
      "metadata": {}
    },
    {
      "cell_type": "code",
      "source": "def buscarElementoEnPColumna(a, mat):\n    for i in range(1, len(mat)):\n        if(mat[i][0]==a):\n            return i\n    raise NameError('Tabla invalida')\n    \ndef switchear(i, index, mat):\n    last = mat[index]\n    mat[index]= mat[i]\n    mat[i]=last\n    \ndef ordenarMatriz(mat):\n    for i in range(1, len(mat)):\n        if(mat[0][i]!=mat[i][0]):\n            index = buscarElementoEnPColumna(mat[0][i],mat)\n            switchear(i, index, mat)\n    return mat\n\ndef buscarNeutro(mat): \n    for i in range(1, len(mat)):\n        if(mat[0][i]==mat[i][i] and mat[i][0]==mat[i][i]):\n            return [mat[i][i], i]\n    return False \n\ndef verificarNeutro(neutro, mat):\n    for i in range(1, len(mat)):\n        if(mat[i][0]!=mat[i][neutro[1]]):\n            return False\n    return True\ndef verificarAsociatividad(matriz):\n    n = len(matriz)  # Tamaño de la matriz\n\n    for i in range(n):\n        for j in range(n):\n            for k in range(n):\n                resultado1 = matriz[i][j] + (matriz[j][k] + matriz[i][k])\n                resultado2 = (matriz[i][j] + matriz[i][k]) + matriz[j][k]\n                if resultado1 != resultado2:\n                    return False\n    \n    return True\n",
      "metadata": {},
      "execution_count": null,
      "outputs": []
    },
    {
      "cell_type": "markdown",
      "source": "<h1>Programa</h1>",
      "metadata": {}
    },
    {
      "cell_type": "code",
      "source": "\ndef crearConjunto(mat): \n    set={}\n    for i in range (1,len(mat[0])):\n        set.setdefault(mat[0][i], False)\n    return set\n\n\ndef verificarFilas(mat,set): \n    try:\n        for i in range(1, len(mat)):\n            for j in range(1, len(mat[i])):\n                if(set[mat[i][j]]== True):\n                    return False\n                set[mat[i][j]]= True\n            for i in set:\n                set[i]=[False, 0]\n        return True\n    except:\n        return False\n\n\ndef verificarColumnas(mat, set):\n    try:\n        for j in range(1, len(mat)):\n            for i in range(1, len(mat[j])):\n                if(set[mat[i][j]]== True):\n                    return False\n                set[mat[i][j]]= True\n            for i in set:\n                set[i]=[False, 0]\n        return True\n    except:\n        return False\n\ndef verificarLatino(mat, set):\n    cumpleFila = verificarFilas(mat, set)\n    cumpleColumna = verificarColumnas(mat, set)\n    return cumpleFila and cumpleColumna\n\ndef verificarFormato(mat):\n    size=len(mat)\n    for i in range(1, len(mat)):\n        if(len(mat[i])!=size):\n            return False\n    return True\n\ndef buscarElementoEnPColumna(a, mat):\n    for i in range(1, len(mat)):\n        if(mat[i][0]==a):\n            return i\n    raise NameError('Tabla invalida')\n\ndef switchear(i, index, mat):\n    last = mat[index]\n    mat[index]= mat[i]\n    mat[i]=last\n\ndef ordenarMatriz(mat):\n    for i in range(1, len(mat)):\n        if(mat[0][i]!=mat[i][0]):\n            index = buscarElementoEnPColumna(mat[0][i],mat)\n            switchear(i, index, mat)\n    return mat\n\ndef buscarNeutro(mat): \n    for i in range(1, len(mat)):\n        if(mat[0][i]==mat[i][i] and mat[i][0]==mat[i][i]):\n            return [mat[i][i], i]\n    return False \n\n\ndef verificarNeutro(neutro, mat):\n    for i in range(1, len(mat)):\n        if(mat[i][0]!=mat[i][neutro[1]]):\n            return False\n    return True\n\ndef verificarAsociatividad(mat): \n    conjunto = []\n    dic = {}\n\n    for i in range(1,len(mat[0])):\n        conjunto.append(mat[0][i])\n        dic.setdefault(mat[0][i], i)\n    for i in range(1,len(mat)):\n        for j in range(1, len(mat[i])):\n            mat[i][j]=dic[mat[i][j]]\n\n    for i in range(1, len(conjunto)+1):\n        for j in range(1, len(conjunto)+1):\n            for k in range(1, len(conjunto)+1):\n                if(mat[mat[i][j]][k]!=mat[i][mat[j][k]]):\n                    return False\n    return True         \n     \nmatriz = [[  0,'a','f1','f2','f3','f4','f5'], ##es latino pero no grupo\n          ['e','e','f1','f2','f3','f4','f5'],\n          ['f1','f1','e','f3','f4','f5','f2'],\n          ['f2','f2','f3','e','f5','f1','f4'],\n          ['f3','f3','f4','f5','e','f2','f1'],\n          ['f4','f4','f5','f1','f2','e','f3'],\n          ['f5','f5','f2','f4','f1','f3','e']] \nset = crearConjunto(matriz)\ntieneFormato = verificarFormato(matriz) \n\nif(tieneFormato):\n    matriz = ordenarMatriz(matriz) \n    esLatino = verificarLatino(matriz, set) \n    neutro = buscarNeutro(matriz) \n    todosCumplenNeutro = verificarNeutro(neutro, matriz) \n    esAsociativo = verificarAsociatividad(matriz)\n    if(esLatino):\n        print(\"es Cuadro Latino\")\n        if(esAsociativo and todosCumplenNeutro):\n            print(\"es grupo\")\n        else: \n            print(\"no es grupo\")\n    else:\n        print(\"no es Latino ni grupo\")\nelse:\n    print('tabla invalida')\n\n",
      "metadata": {
        "trusted": true
      },
      "execution_count": 6,
      "outputs": [
        {
          "name": "stdout",
          "text": "es Cuadro Latino\nno es grupo\n",
          "output_type": "stream"
        }
      ]
    },
    {
      "cell_type": "code",
      "source": "",
      "metadata": {},
      "execution_count": null,
      "outputs": []
    }
  ]
}
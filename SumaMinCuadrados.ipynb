{
  "metadata": {
    "language_info": {
      "codemirror_mode": {
        "name": "python",
        "version": 3
      },
      "file_extension": ".py",
      "mimetype": "text/x-python",
      "name": "python",
      "nbconvert_exporter": "python",
      "pygments_lexer": "ipython3",
      "version": "3.8"
    },
    "kernelspec": {
      "name": "python",
      "display_name": "Python (Pyodide)",
      "language": "python"
    }
  },
  "nbformat_minor": 4,
  "nbformat": 4,
  "cells": [
    {
      "cell_type": "markdown",
      "source": "<h1>Suma minima de cuadrados</h1>",
      "metadata": {}
    },
    {
      "cell_type": "markdown",
      "source": "<h2>Librerías</h2>",
      "metadata": {}
    },
    {
      "cell_type": "raw",
      "source": "MATH",
      "metadata": {}
    },
    {
      "cell_type": "markdown",
      "source": "<h2>Funciones</h2>",
      "metadata": {
        "tags": []
      }
    },
    {
      "cell_type": "code",
      "source": "def suma_cuadrados_minima(n):\n    # Se crea una lista para almacenar las soluciones parciales\n    soluciones = [float('inf')] * (n + 1)\n    \n    # El caso base: el número 0 no requiere sumar ningún cuadrado\n    soluciones[0] = 0\n    \n    # Calcular las soluciones para todos los números hasta n\n    for i in range(1, n + 1):\n        # Comprobar si i es un cuadrado perfecto\n        if math.isqrt(i) ** 2 == i:\n            soluciones[i] = 1\n        else:\n            # Calcular la solución mínima para i\n            for j in range(1, int(math.sqrt(i)) + 1):\n                soluciones[i] = min(soluciones[i], 1 + soluciones[i - j**2])\n    \n    return soluciones[n]",
      "metadata": {},
      "execution_count": null,
      "outputs": []
    },
    {
      "cell_type": "markdown",
      "source": "\n<h2>Programa funcionando</h2>",
      "metadata": {}
    },
    {
      "cell_type": "code",
      "source": "import math\ndef suma_cuadrados_minima(n):\n    # Se crea una lista para almacenar las soluciones parciales\n    soluciones = [float('inf')] * (n + 1)\n    \n    # El caso base: el número 0 no requiere sumar ningún cuadrado\n    soluciones[0] = 0\n    \n    # Calcular las soluciones para todos los números hasta n\n    for i in range(1, n + 1):\n        # Comprobar si i es un cuadrado perfecto\n        if math.isqrt(i) ** 2 == i:\n            soluciones[i] = 1\n        else:\n            # Calcular la solución mínima para i\n            for j in range(1, int(math.sqrt(i)) + 1):\n                soluciones[i] = min(soluciones[i], 1 + soluciones[i - j**2])\n    \n    return soluciones[n]\n# Ejemplo de uso\nnumero = 27\nresultado = suma_cuadrados_minima(numero)\nprint(f\"El número {numero} se puede expresar como la suma de {resultado} cuadrados.\")\n\n",
      "metadata": {
        "trusted": true
      },
      "execution_count": 5,
      "outputs": [
        {
          "name": "stdout",
          "text": "El número 27 se puede expresar como la suma de 3 cuadrados.\n",
          "output_type": "stream"
        }
      ]
    },
    {
      "cell_type": "code",
      "source": "",
      "metadata": {},
      "execution_count": null,
      "outputs": []
    }
  ]
}